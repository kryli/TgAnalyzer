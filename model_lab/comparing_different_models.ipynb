{
 "cells": [
  {
   "cell_type": "markdown",
   "metadata": {},
   "source": [
    "## Step 1: Load and preview data\n",
    "\n",
    "We begin by loading the JSON file containing the messages, converting it to a DataFrame, and displaying the first few entries.  \n",
    "This will help us inspect the structure and locate the field that contains the message text.\n"
   ]
  },
  {
   "cell_type": "code",
   "execution_count": 1,
   "metadata": {},
   "outputs": [
    {
     "data": {
      "text/html": [
       "<div>\n",
       "<style scoped>\n",
       "    .dataframe tbody tr th:only-of-type {\n",
       "        vertical-align: middle;\n",
       "    }\n",
       "\n",
       "    .dataframe tbody tr th {\n",
       "        vertical-align: top;\n",
       "    }\n",
       "\n",
       "    .dataframe thead th {\n",
       "        text-align: right;\n",
       "    }\n",
       "</style>\n",
       "<table border=\"1\" class=\"dataframe\">\n",
       "  <thead>\n",
       "    <tr style=\"text-align: right;\">\n",
       "      <th></th>\n",
       "      <th>id</th>\n",
       "      <th>date</th>\n",
       "      <th>sender_id</th>\n",
       "      <th>text</th>\n",
       "    </tr>\n",
       "  </thead>\n",
       "  <tbody>\n",
       "    <tr>\n",
       "      <th>0</th>\n",
       "      <td>300001</td>\n",
       "      <td>2025-06-17T18:00:00+00:00</td>\n",
       "      <td>101</td>\n",
       "      <td>Не забудь проверить зарядные устройства и пере...</td>\n",
       "    </tr>\n",
       "    <tr>\n",
       "      <th>1</th>\n",
       "      <td>300002</td>\n",
       "      <td>2025-06-17T18:02:00+00:00</td>\n",
       "      <td>202</td>\n",
       "      <td>Я связался с представителями компании, они гот...</td>\n",
       "    </tr>\n",
       "    <tr>\n",
       "      <th>2</th>\n",
       "      <td>300003</td>\n",
       "      <td>2025-06-17T18:04:00+00:00</td>\n",
       "      <td>101</td>\n",
       "      <td>Мы обсуждали возможность провести встречу в не...</td>\n",
       "    </tr>\n",
       "    <tr>\n",
       "      <th>3</th>\n",
       "      <td>300004</td>\n",
       "      <td>2025-06-17T18:06:00+00:00</td>\n",
       "      <td>202</td>\n",
       "      <td>Компания-организатор просила заранее отправить...</td>\n",
       "    </tr>\n",
       "    <tr>\n",
       "      <th>4</th>\n",
       "      <td>300005</td>\n",
       "      <td>2025-06-17T18:08:00+00:00</td>\n",
       "      <td>101</td>\n",
       "      <td>Я проверил расписание поездов самый удобный ва...</td>\n",
       "    </tr>\n",
       "  </tbody>\n",
       "</table>\n",
       "</div>"
      ],
      "text/plain": [
       "       id                       date  sender_id  \\\n",
       "0  300001  2025-06-17T18:00:00+00:00        101   \n",
       "1  300002  2025-06-17T18:02:00+00:00        202   \n",
       "2  300003  2025-06-17T18:04:00+00:00        101   \n",
       "3  300004  2025-06-17T18:06:00+00:00        202   \n",
       "4  300005  2025-06-17T18:08:00+00:00        101   \n",
       "\n",
       "                                                text  \n",
       "0  Не забудь проверить зарядные устройства и пере...  \n",
       "1  Я связался с представителями компании, они гот...  \n",
       "2  Мы обсуждали возможность провести встречу в не...  \n",
       "3  Компания-организатор просила заранее отправить...  \n",
       "4  Я проверил расписание поездов самый удобный ва...  "
      ]
     },
     "execution_count": 1,
     "metadata": {},
     "output_type": "execute_result"
    }
   ],
   "source": [
    "import pandas as pd\n",
    "import json\n",
    "\n",
    "# Load the JSON file\n",
    "with open('messages.json', 'r', encoding='utf-8') as f:\n",
    "    data = json.load(f)\n",
    "\n",
    "# Convert the loaded data to a pandas DataFrame\n",
    "df = pd.DataFrame(data)\n",
    "\n",
    "# Display the first 5 rows of the dataset\n",
    "df.head()\n"
   ]
  },
  {
   "cell_type": "markdown",
   "metadata": {},
   "source": [
    "## Step 2: Select and clean the message text\n",
    "\n",
    "We extract the `text` field from the dataset and perform basic preprocessing:\n",
    "- Remove null or empty messages\n",
    "- Strip leading/trailing whitespace\n",
    "- Remove duplicates (optional)\n",
    "\n",
    "This step prepares clean input for topic modeling.\n"
   ]
  },
  {
   "cell_type": "code",
   "execution_count": 2,
   "metadata": {},
   "outputs": [
    {
     "data": {
      "text/plain": [
       "Index(['id', 'date', 'sender_id', 'text'], dtype='object')"
      ]
     },
     "execution_count": 2,
     "metadata": {},
     "output_type": "execute_result"
    }
   ],
   "source": [
    "df.columns\n"
   ]
  },
  {
   "cell_type": "code",
   "execution_count": 3,
   "metadata": {},
   "outputs": [
    {
     "data": {
      "text/html": [
       "<div>\n",
       "<style scoped>\n",
       "    .dataframe tbody tr th:only-of-type {\n",
       "        vertical-align: middle;\n",
       "    }\n",
       "\n",
       "    .dataframe tbody tr th {\n",
       "        vertical-align: top;\n",
       "    }\n",
       "\n",
       "    .dataframe thead th {\n",
       "        text-align: right;\n",
       "    }\n",
       "</style>\n",
       "<table border=\"1\" class=\"dataframe\">\n",
       "  <thead>\n",
       "    <tr style=\"text-align: right;\">\n",
       "      <th></th>\n",
       "      <th>text</th>\n",
       "    </tr>\n",
       "  </thead>\n",
       "  <tbody>\n",
       "    <tr>\n",
       "      <th>0</th>\n",
       "      <td>Не забудь проверить зарядные устройства и пере...</td>\n",
       "    </tr>\n",
       "    <tr>\n",
       "      <th>1</th>\n",
       "      <td>Я связался с представителями компании, они гот...</td>\n",
       "    </tr>\n",
       "    <tr>\n",
       "      <th>2</th>\n",
       "      <td>Мы обсуждали возможность провести встречу в не...</td>\n",
       "    </tr>\n",
       "    <tr>\n",
       "      <th>3</th>\n",
       "      <td>Компания-организатор просила заранее отправить...</td>\n",
       "    </tr>\n",
       "    <tr>\n",
       "      <th>4</th>\n",
       "      <td>Я проверил расписание поездов самый удобный ва...</td>\n",
       "    </tr>\n",
       "    <tr>\n",
       "      <th>5</th>\n",
       "      <td>Мы обсуждали возможность провести встречу в не...</td>\n",
       "    </tr>\n",
       "    <tr>\n",
       "      <th>6</th>\n",
       "      <td>Если ты не возражаешь, я возьму с собой макет ...</td>\n",
       "    </tr>\n",
       "    <tr>\n",
       "      <th>7</th>\n",
       "      <td>Можешь ли ты проверить наличие переговорной ко...</td>\n",
       "    </tr>\n",
       "    <tr>\n",
       "      <th>8</th>\n",
       "      <td>Компания-организатор просила заранее отправить...</td>\n",
       "    </tr>\n",
       "    <tr>\n",
       "      <th>9</th>\n",
       "      <td>Нас предупредили, что возможны изменения в про...</td>\n",
       "    </tr>\n",
       "  </tbody>\n",
       "</table>\n",
       "</div>"
      ],
      "text/plain": [
       "                                                text\n",
       "0  Не забудь проверить зарядные устройства и пере...\n",
       "1  Я связался с представителями компании, они гот...\n",
       "2  Мы обсуждали возможность провести встречу в не...\n",
       "3  Компания-организатор просила заранее отправить...\n",
       "4  Я проверил расписание поездов самый удобный ва...\n",
       "5  Мы обсуждали возможность провести встречу в не...\n",
       "6  Если ты не возражаешь, я возьму с собой макет ...\n",
       "7  Можешь ли ты проверить наличие переговорной ко...\n",
       "8  Компания-организатор просила заранее отправить...\n",
       "9  Нас предупредили, что возможны изменения в про..."
      ]
     },
     "execution_count": 3,
     "metadata": {},
     "output_type": "execute_result"
    }
   ],
   "source": [
    "# Select the column that contains the message text\n",
    "df = df[['text']].copy()\n",
    "\n",
    "# Drop rows with null or empty messages\n",
    "df.dropna(subset=['text'], inplace=True)\n",
    "df = df[df['text'].str.strip() != '']\n",
    "\n",
    "# Strip whitespace\n",
    "df['text'] = df['text'].str.strip()\n",
    "\n",
    "# Remove duplicates\n",
    "df.drop_duplicates(subset=['text'], inplace=True)\n",
    "\n",
    "# Reset index\n",
    "df.reset_index(drop=True, inplace=True)\n",
    "\n",
    "# Show a sample of cleaned messages\n",
    "df.head(10)\n"
   ]
  },
  {
   "cell_type": "markdown",
   "metadata": {},
   "source": [
    "## Step 3: Analyze message lengths\n",
    "\n",
    "To choose suitable models, we need to understand the distribution of message lengths.\n",
    "Short texts may affect performance of models like LDA, which rely on word co-occurrence statistics.\n"
   ]
  },
  {
   "cell_type": "code",
   "execution_count": 4,
   "metadata": {},
   "outputs": [
    {
     "data": {
      "image/png": "[encoded data removed]",
      "text/plain": [
       "<Figure size 800x400 with 1 Axes>"
      ]
     },
     "metadata": {},
     "output_type": "display_data"
    },
    {
     "data": {
      "text/plain": [
       "count    983.000000\n",
       "mean      15.220753\n",
       "std        3.050341\n",
       "min        9.000000\n",
       "25%       14.000000\n",
       "50%       15.000000\n",
       "75%       16.000000\n",
       "max       42.000000\n",
       "Name: word_count, dtype: float64"
      ]
     },
     "execution_count": 4,
     "metadata": {},
     "output_type": "execute_result"
    }
   ],
   "source": [
    "\n",
    "import matplotlib.pyplot as plt\n",
    "\n",
    "# Compute number of words in each message\n",
    "df['word_count'] = df['text'].apply(lambda x: len(x.split()))\n",
    "\n",
    "# Plot distribution\n",
    "plt.figure(figsize=(8, 4))\n",
    "df['word_count'].hist(bins=30)\n",
    "plt.title('Distribution of message lengths (in words)')\n",
    "plt.xlabel('Number of words')\n",
    "plt.ylabel('Number of messages')\n",
    "plt.grid(True)\n",
    "plt.show()\n",
    "\n",
    "# Show basic statistics\n",
    "df['word_count'].describe()\n"
   ]
  },
  {
   "cell_type": "markdown",
   "metadata": {},
   "source": [
    "## Step 4: Topic modeling with BERTopic\n",
    "\n",
    "BERTopic uses transformer-based embeddings (e.g., sentence-transformers) and HDBSCAN clustering to discover interpretable topics from short texts.  \n",
    "It's especially effective for short and noisy texts — making it suitable for Telegram group messages.\n",
    "\n",
    "We will:\n",
    "- Use multilingual embeddings to support Russian\n",
    "- Fit BERTopic on our messages\n",
    "- View the discovered topics\n"
   ]
  },
  {
   "cell_type": "code",
   "execution_count": 5,
   "metadata": {},
   "outputs": [
    {
     "data": {
      "text/html": [
       "<div>\n",
       "<style scoped>\n",
       "    .dataframe tbody tr th:only-of-type {\n",
       "        vertical-align: middle;\n",
       "    }\n",
       "\n",
       "    .dataframe tbody tr th {\n",
       "        vertical-align: top;\n",
       "    }\n",
       "\n",
       "    .dataframe thead th {\n",
       "        text-align: right;\n",
       "    }\n",
       "</style>\n",
       "<table border=\"1\" class=\"dataframe\">\n",
       "  <thead>\n",
       "    <tr style=\"text-align: right;\">\n",
       "      <th></th>\n",
       "      <th>Topic</th>\n",
       "      <th>Count</th>\n",
       "      <th>Name</th>\n",
       "      <th>Representation</th>\n",
       "      <th>Representative_Docs</th>\n",
       "    </tr>\n",
       "  </thead>\n",
       "  <tbody>\n",
       "    <tr>\n",
       "      <th>0</th>\n",
       "      <td>-1</td>\n",
       "      <td>392</td>\n",
       "      <td>-1_для_не_или_чтобы</td>\n",
       "      <td>[для, не, или, чтобы, это, на, стоит, можно, н...</td>\n",
       "      <td>[Если мы хотим, чтобы подкаст был действительн...</td>\n",
       "    </tr>\n",
       "    <tr>\n",
       "      <th>1</th>\n",
       "      <td>0</td>\n",
       "      <td>171</td>\n",
       "      <td>0_на_важно_по_для</td>\n",
       "      <td>[на, важно, по, для, не, только, быть, сотрудн...</td>\n",
       "      <td>[Внутренние вакансии должны быть видны всем, ч...</td>\n",
       "    </tr>\n",
       "    <tr>\n",
       "      <th>2</th>\n",
       "      <td>1</td>\n",
       "      <td>51</td>\n",
       "      <td>1_часто_некоторые_команды_не</td>\n",
       "      <td>[часто, некоторые, команды, не, без, от, менед...</td>\n",
       "      <td>[Некоторые люди на удалёнке становятся менее з...</td>\n",
       "    </tr>\n",
       "    <tr>\n",
       "      <th>3</th>\n",
       "      <td>2</td>\n",
       "      <td>46</td>\n",
       "      <td>2_автоматизация_автоматизации_автоматизировать...</td>\n",
       "      <td>[автоматизация, автоматизации, автоматизироват...</td>\n",
       "      <td>[Автоматизация может быть этапной — сначала ав...</td>\n",
       "    </tr>\n",
       "    <tr>\n",
       "      <th>4</th>\n",
       "      <td>3</td>\n",
       "      <td>40</td>\n",
       "      <td>3_дня_время_на_работа</td>\n",
       "      <td>[дня, время, на, работа, работе, не, 24, но, в...</td>\n",
       "      <td>[Удалёнка даёт гибкость, но требует дисциплины...</td>\n",
       "    </tr>\n",
       "    <tr>\n",
       "      <th>5</th>\n",
       "      <td>4</td>\n",
       "      <td>34</td>\n",
       "      <td>4_проекта_проект_цели_что</td>\n",
       "      <td>[проекта, проект, цели, что, помогает, это, ес...</td>\n",
       "      <td>[Сложные участки проекта лучше разделять на ми...</td>\n",
       "    </tr>\n",
       "    <tr>\n",
       "      <th>6</th>\n",
       "      <td>5</td>\n",
       "      <td>30</td>\n",
       "      <td>5_встречи_встречу_если_встреч</td>\n",
       "      <td>[встречи, встречу, если, встреч, не, время, со...</td>\n",
       "      <td>[Нас предупредили, что возможны изменения в пр...</td>\n",
       "    </tr>\n",
       "    <tr>\n",
       "      <th>7</th>\n",
       "      <td>6</td>\n",
       "      <td>23</td>\n",
       "      <td>6_по_экологии_должно_начать</td>\n",
       "      <td>[по, экологии, должно, начать, инициативы, при...</td>\n",
       "      <td>[Предлагаю начать с анализа углеродного следа ...</td>\n",
       "    </tr>\n",
       "    <tr>\n",
       "      <th>8</th>\n",
       "      <td>7</td>\n",
       "      <td>22</td>\n",
       "      <td>7_мышления_критического_мышление_обсуждения</td>\n",
       "      <td>[мышления, критического, мышление, обсуждения,...</td>\n",
       "      <td>[Умение отделять факты от мнений — ключевая со...</td>\n",
       "    </tr>\n",
       "    <tr>\n",
       "      <th>9</th>\n",
       "      <td>8</td>\n",
       "      <td>21</td>\n",
       "      <td>8_коммуникации_каналы_по_каналам</td>\n",
       "      <td>[коммуникации, каналы, по, каналам, для, что, ...</td>\n",
       "      <td>[Хорошо бы проводить короткие воркшопы по комм...</td>\n",
       "    </tr>\n",
       "  </tbody>\n",
       "</table>\n",
       "</div>"
      ],
      "text/plain": [
       "   Topic  Count                                               Name  \\\n",
       "0     -1    392                                -1_для_не_или_чтобы   \n",
       "1      0    171                                  0_на_важно_по_для   \n",
       "2      1     51                       1_часто_некоторые_команды_не   \n",
       "3      2     46  2_автоматизация_автоматизации_автоматизировать...   \n",
       "4      3     40                              3_дня_время_на_работа   \n",
       "5      4     34                          4_проекта_проект_цели_что   \n",
       "6      5     30                      5_встречи_встречу_если_встреч   \n",
       "7      6     23                        6_по_экологии_должно_начать   \n",
       "8      7     22        7_мышления_критического_мышление_обсуждения   \n",
       "9      8     21                   8_коммуникации_каналы_по_каналам   \n",
       "\n",
       "                                      Representation  \\\n",
       "0  [для, не, или, чтобы, это, на, стоит, можно, н...   \n",
       "1  [на, важно, по, для, не, только, быть, сотрудн...   \n",
       "2  [часто, некоторые, команды, не, без, от, менед...   \n",
       "3  [автоматизация, автоматизации, автоматизироват...   \n",
       "4  [дня, время, на, работа, работе, не, 24, но, в...   \n",
       "5  [проекта, проект, цели, что, помогает, это, ес...   \n",
       "6  [встречи, встречу, если, встреч, не, время, со...   \n",
       "7  [по, экологии, должно, начать, инициативы, при...   \n",
       "8  [мышления, критического, мышление, обсуждения,...   \n",
       "9  [коммуникации, каналы, по, каналам, для, что, ...   \n",
       "\n",
       "                                 Representative_Docs  \n",
       "0  [Если мы хотим, чтобы подкаст был действительн...  \n",
       "1  [Внутренние вакансии должны быть видны всем, ч...  \n",
       "2  [Некоторые люди на удалёнке становятся менее з...  \n",
       "3  [Автоматизация может быть этапной — сначала ав...  \n",
       "4  [Удалёнка даёт гибкость, но требует дисциплины...  \n",
       "5  [Сложные участки проекта лучше разделять на ми...  \n",
       "6  [Нас предупредили, что возможны изменения в пр...  \n",
       "7  [Предлагаю начать с анализа углеродного следа ...  \n",
       "8  [Умение отделять факты от мнений — ключевая со...  \n",
       "9  [Хорошо бы проводить короткие воркшопы по комм...  "
      ]
     },
     "execution_count": 5,
     "metadata": {},
     "output_type": "execute_result"
    }
   ],
   "source": [
    "from bertopic import BERTopic\n",
    "from sentence_transformers import SentenceTransformer\n",
    "\n",
    "# Load multilingual model to support Russian\n",
    "embedding_model = SentenceTransformer(\"sentence-transformers/paraphrase-multilingual-MiniLM-L12-v2\")\n",
    "\n",
    "# Create and fit BERTopic\n",
    "topic_model = BERTopic(embedding_model=embedding_model, language=\"multilingual\")\n",
    "topics, probs = topic_model.fit_transform(df['text'])\n",
    "\n",
    "# Show top 10 topics\n",
    "topic_model.get_topic_info().head(10)\n"
   ]
  },
  {
   "cell_type": "markdown",
   "metadata": {},
   "source": [
    "## Step 5: Visualize BERTopic topics\n",
    "\n",
    "This 2D visualization shows the spatial distribution of topics using UMAP.  \n",
    "It helps us visually assess how well-separated and coherent the topic clusters are.\n"
   ]
  },
  {
   "cell_type": "code",
   "execution_count": 6,
   "metadata": {},
   "outputs": [
    {
     "data": {
      "application/vnd.plotly.v1+json": {
       "config": {
        "plotlyServerURL": "https://plot.ly"
       },
       "data": [
        {
         "customdata": [
          [
           0,
           "на | важно | по | для | не",
           171
          ],
          [
           1,
           "часто | некоторые | команды | не | без",
           51
          ],
          [
           2,
           "автоматизация | автоматизации | автоматизировать | чтобы | автоматизацию",
           46
          ],
          [
           3,
           "дня | время | на | работа | работе",
           40
          ],
          [
           4,
           "проекта | проект | цели | что | помогает",
           34
          ],
          [
           5,
           "встречи | встречу | если | встреч | не",
           30
          ],
          [
           6,
           "по | экологии | должно | начать | инициативы",
           23
          ],
          [
           7,
           "мышления | критического | мышление | обсуждения | видеть",
           22
          ],
          [
           8,
           "коммуникации | каналы | по | каналам | для",
           21
          ],
          [
           9,
           "задач | периодический | пересмотр | на | приоритетов",
           20
          ],
          [
           10,
           "сотрудников | новых | адаптации | компании | быстрее",
           19
          ],
          [
           11,
           "эффективности | какие | удовлетворённости | навыки | оценки",
           18
          ],
          [
           12,
           "детали | ли | рекомендую | непредвидённых | уточнить",
           17
          ],
          [
           13,
           "ментор | менторскую | новичку | менторской | каждому",
           17
          ],
          [
           14,
           "признание | за | бонусов | награды | бонусы",
           17
          ],
          [
           15,
           "культура | уважение | корпоративной | корпоративная | культуры",
           12
          ],
          [
           16,
           "заранее | детали | уточнить | непредвидённых | также",
           12
          ],
          [
           17,
           "письма | теги | рассылку | регулярную | основными",
           11
          ],
          [
           18,
           "смогут | менторов | предлагаю | зону | организовать",
           10
          ]
         ],
         "hovertemplate": "<b>Topic %{customdata[0]}</b><br>%{customdata[1]}<br>Size: %{customdata[2]}",
         "legendgroup": "",
         "marker": {
          "color": "#B0BEC5",
          "line": {
           "color": "DarkSlateGrey",
           "width": 2
          },
          "size": {
           "bdata": "qwAzAC4AKAAiAB4AFwAWABUAFAATABIAEQARABEADAAMAAsACgA=",
           "dtype": "i2"
          },
          "sizemode": "area",
          "sizeref": 0.106875,
          "symbol": "circle"
         },
         "mode": "markers",
         "name": "",
         "orientation": "v",
         "showlegend": false,
         "type": "scatter",
         "x": {
          "bdata": "rNQBQNp1AUB6DA9BIwgOQfCJGUFzg0JATrKJP5WiHkEawd/A8k8SQSnWsT9h48w/GZNxQMvG/z92hBFAakOVPziyZEC1gNjA2pdEQA==",
          "dtype": "f4"
         },
         "xaxis": "x",
         "y": {
          "bdata": "cqfHQG650UA682pBjHBhQZYIY0HZd9VA9JXoQAvzZkGeWgtBrfVlQf5kvEAArt5AHV3AQDoH80C/r99AIHm3QIk7x0C/uQdB7LrFQA==",
          "dtype": "f4"
         },
         "yaxis": "y"
        }
       ],
       "layout": {
        "annotations": [
         {
          "showarrow": false,
          "text": "D1",
          "x": -8.041170263290406,
          "y": 10.880272054672242,
          "yshift": 10
         },
         {
          "showarrow": false,
          "text": "D2",
          "x": 1.6803632736206051,
          "xshift": 10,
          "y": 16.887038707733154
         }
        ],
        "height": 650,
        "hoverlabel": {
         "bgcolor": "white",
         "font": {
          "family": "Rockwell",
          "size": 16
         }
        },
        "legend": {
         "itemsizing": "constant",
         "tracegroupgap": 0
        },
        "margin": {
         "t": 60
        },
        "shapes": [
         {
          "line": {
           "color": "#CFD8DC",
           "width": 2
          },
          "type": "line",
          "x0": 1.6803632736206051,
          "x1": 1.6803632736206051,
          "y0": 4.873505401611328,
          "y1": 16.887038707733154
         },
         {
          "line": {
           "color": "#9E9E9E",
           "width": 2
          },
          "type": "line",
          "x0": -8.041170263290406,
          "x1": 11.401896810531616,
          "y0": 10.880272054672242,
          "y1": 10.880272054672242
         }
        ],
        "sliders": [
         {
          "active": 0,
          "pad": {
           "t": 50
          },
          "steps": [
           {
            "args": [
             {
              "marker.color": [
               [
                "red",
                "#B0BEC5",
                "#B0BEC5",
                "#B0BEC5",
                "#B0BEC5",
                "#B0BEC5",
                "#B0BEC5",
                "#B0BEC5",
                "#B0BEC5",
                "#B0BEC5",
                "#B0BEC5",
                "#B0BEC5",
                "#B0BEC5",
                "#B0BEC5",
                "#B0BEC5",
                "#B0BEC5",
                "#B0BEC5",
                "#B0BEC5",
                "#B0BEC5"
               ]
              ]
             }
            ],
            "label": "Topic 0",
            "method": "update"
           },
           {
            "args": [
             {
              "marker.color": [
               [
                "#B0BEC5",
                "red",
                "#B0BEC5",
                "#B0BEC5",
                "#B0BEC5",
                "#B0BEC5",
                "#B0BEC5",
                "#B0BEC5",
                "#B0BEC5",
                "#B0BEC5",
                "#B0BEC5",
                "#B0BEC5",
                "#B0BEC5",
                "#B0BEC5",
                "#B0BEC5",
                "#B0BEC5",
                "#B0BEC5",
                "#B0BEC5",
                "#B0BEC5"
               ]
              ]
             }
            ],
            "label": "Topic 1",
            "method": "update"
           },
           {
            "args": [
             {
              "marker.color": [
               [
                "#B0BEC5",
                "#B0BEC5",
                "red",
                "#B0BEC5",
                "#B0BEC5",
                "#B0BEC5",
                "#B0BEC5",
                "#B0BEC5",
                "#B0BEC5",
                "#B0BEC5",
                "#B0BEC5",
                "#B0BEC5",
                "#B0BEC5",
                "#B0BEC5",
                "#B0BEC5",
                "#B0BEC5",
                "#B0BEC5",
                "#B0BEC5",
                "#B0BEC5"
               ]
              ]
             }
            ],
            "label": "Topic 2",
            "method": "update"
           },
           {
            "args": [
             {
              "marker.color": [
               [
                "#B0BEC5",
                "#B0BEC5",
                "#B0BEC5",
                "red",
                "#B0BEC5",
                "#B0BEC5",
                "#B0BEC5",
                "#B0BEC5",
                "#B0BEC5",
                "#B0BEC5",
                "#B0BEC5",
                "#B0BEC5",
                "#B0BEC5",
                "#B0BEC5",
                "#B0BEC5",
                "#B0BEC5",
                "#B0BEC5",
                "#B0BEC5",
                "#B0BEC5"
               ]
              ]
             }
            ],
            "label": "Topic 3",
            "method": "update"
           },
           {
            "args": [
             {
              "marker.color": [
               [
                "#B0BEC5",
                "#B0BEC5",
                "#B0BEC5",
                "#B0BEC5",
                "red",
                "#B0BEC5",
                "#B0BEC5",
                "#B0BEC5",
                "#B0BEC5",
                "#B0BEC5",
                "#B0BEC5",
                "#B0BEC5",
                "#B0BEC5",
                "#B0BEC5",
                "#B0BEC5",
                "#B0BEC5",
                "#B0BEC5",
                "#B0BEC5",
                "#B0BEC5"
               ]
              ]
             }
            ],
            "label": "Topic 4",
            "method": "update"
           },
           {
            "args": [
             {
              "marker.color": [
               [
                "#B0BEC5",
                "#B0BEC5",
                "#B0BEC5",
                "#B0BEC5",
                "#B0BEC5",
                "red",
                "#B0BEC5",
                "#B0BEC5",
                "#B0BEC5",
                "#B0BEC5",
                "#B0BEC5",
                "#B0BEC5",
                "#B0BEC5",
                "#B0BEC5",
                "#B0BEC5",
                "#B0BEC5",
                "#B0BEC5",
                "#B0BEC5",
                "#B0BEC5"
               ]
              ]
             }
            ],
            "label": "Topic 5",
            "method": "update"
           },
           {
            "args": [
             {
              "marker.color": [
               [
                "#B0BEC5",
                "#B0BEC5",
                "#B0BEC5",
                "#B0BEC5",
                "#B0BEC5",
                "#B0BEC5",
                "red",
                "#B0BEC5",
                "#B0BEC5",
                "#B0BEC5",
                "#B0BEC5",
                "#B0BEC5",
                "#B0BEC5",
                "#B0BEC5",
                "#B0BEC5",
                "#B0BEC5",
                "#B0BEC5",
                "#B0BEC5",
                "#B0BEC5"
               ]
              ]
             }
            ],
            "label": "Topic 6",
            "method": "update"
           },
           {
            "args": [
             {
              "marker.color": [
               [
                "#B0BEC5",
                "#B0BEC5",
                "#B0BEC5",
                "#B0BEC5",
                "#B0BEC5",
                "#B0BEC5",
                "#B0BEC5",
                "red",
                "#B0BEC5",
                "#B0BEC5",
                "#B0BEC5",
                "#B0BEC5",
                "#B0BEC5",
                "#B0BEC5",
                "#B0BEC5",
                "#B0BEC5",
                "#B0BEC5",
                "#B0BEC5",
                "#B0BEC5"
               ]
              ]
             }
            ],
            "label": "Topic 7",
            "method": "update"
           },
           {
            "args": [
             {
              "marker.color": [
               [
                "#B0BEC5",
                "#B0BEC5",
                "#B0BEC5",
                "#B0BEC5",
                "#B0BEC5",
                "#B0BEC5",
                "#B0BEC5",
                "#B0BEC5",
                "red",
                "#B0BEC5",
                "#B0BEC5",
                "#B0BEC5",
                "#B0BEC5",
                "#B0BEC5",
                "#B0BEC5",
                "#B0BEC5",
                "#B0BEC5",
                "#B0BEC5",
                "#B0BEC5"
               ]
              ]
             }
            ],
            "label": "Topic 8",
            "method": "update"
           },
           {
            "args": [
             {
              "marker.color": [
               [
                "#B0BEC5",
                "#B0BEC5",
                "#B0BEC5",
                "#B0BEC5",
                "#B0BEC5",
                "#B0BEC5",
                "#B0BEC5",
                "#B0BEC5",
                "#B0BEC5",
                "red",
                "#B0BEC5",
                "#B0BEC5",
                "#B0BEC5",
                "#B0BEC5",
                "#B0BEC5",
                "#B0BEC5",
                "#B0BEC5",
                "#B0BEC5",
                "#B0BEC5"
               ]
              ]
             }
            ],
            "label": "Topic 9",
            "method": "update"
           },
           {
            "args": [
             {
              "marker.color": [
               [
                "#B0BEC5",
                "#B0BEC5",
                "#B0BEC5",
                "#B0BEC5",
                "#B0BEC5",
                "#B0BEC5",
                "#B0BEC5",
                "#B0BEC5",
                "#B0BEC5",
                "#B0BEC5",
                "red",
                "#B0BEC5",
                "#B0BEC5",
                "#B0BEC5",
                "#B0BEC5",
                "#B0BEC5",
                "#B0BEC5",
                "#B0BEC5",
                "#B0BEC5"
               ]
              ]
             }
            ],
            "label": "Topic 10",
            "method": "update"
           },
           {
            "args": [
             {
              "marker.color": [
               [
                "#B0BEC5",
                "#B0BEC5",
                "#B0BEC5",
                "#B0BEC5",
                "#B0BEC5",
                "#B0BEC5",
                "#B0BEC5",
                "#B0BEC5",
                "#B0BEC5",
                "#B0BEC5",
                "#B0BEC5",
                "red",
                "#B0BEC5",
                "#B0BEC5",
                "#B0BEC5",
                "#B0BEC5",
                "#B0BEC5",
                "#B0BEC5",
                "#B0BEC5"
               ]
              ]
             }
            ],
            "label": "Topic 11",
            "method": "update"
           },
           {
            "args": [
             {
              "marker.color": [
               [
                "#B0BEC5",
                "#B0BEC5",
                "#B0BEC5",
                "#B0BEC5",
                "#B0BEC5",
                "#B0BEC5",
                "#B0BEC5",
                "#B0BEC5",
                "#B0BEC5",
                "#B0BEC5",
                "#B0BEC5",
                "#B0BEC5",
                "red",
                "#B0BEC5",
                "#B0BEC5",
                "#B0BEC5",
                "#B0BEC5",
                "#B0BEC5",
                "#B0BEC5"
               ]
              ]
             }
            ],
            "label": "Topic 12",
            "method": "update"
           },
           {
            "args": [
             {
              "marker.color": [
               [
                "#B0BEC5",
                "#B0BEC5",
                "#B0BEC5",
                "#B0BEC5",
                "#B0BEC5",
                "#B0BEC5",
                "#B0BEC5",
                "#B0BEC5",
                "#B0BEC5",
                "#B0BEC5",
                "#B0BEC5",
                "#B0BEC5",
                "#B0BEC5",
                "red",
                "#B0BEC5",
                "#B0BEC5",
                "#B0BEC5",
                "#B0BEC5",
                "#B0BEC5"
               ]
              ]
             }
            ],
            "label": "Topic 13",
            "method": "update"
           },
           {
            "args": [
             {
              "marker.color": [
               [
                "#B0BEC5",
                "#B0BEC5",
                "#B0BEC5",
                "#B0BEC5",
                "#B0BEC5",
                "#B0BEC5",
                "#B0BEC5",
                "#B0BEC5",
                "#B0BEC5",
                "#B0BEC5",
                "#B0BEC5",
                "#B0BEC5",
                "#B0BEC5",
                "#B0BEC5",
                "red",
                "#B0BEC5",
                "#B0BEC5",
                "#B0BEC5",
                "#B0BEC5"
               ]
              ]
             }
            ],
            "label": "Topic 14",
            "method": "update"
           },
           {
            "args": [
             {
              "marker.color": [
               [
                "#B0BEC5",
                "#B0BEC5",
                "#B0BEC5",
                "#B0BEC5",
                "#B0BEC5",
                "#B0BEC5",
                "#B0BEC5",
                "#B0BEC5",
                "#B0BEC5",
                "#B0BEC5",
                "#B0BEC5",
                "#B0BEC5",
                "#B0BEC5",
                "#B0BEC5",
                "#B0BEC5",
                "red",
                "#B0BEC5",
                "#B0BEC5",
                "#B0BEC5"
               ]
              ]
             }
            ],
            "label": "Topic 15",
            "method": "update"
           },
           {
            "args": [
             {
              "marker.color": [
               [
                "#B0BEC5",
                "#B0BEC5",
                "#B0BEC5",
                "#B0BEC5",
                "#B0BEC5",
                "#B0BEC5",
                "#B0BEC5",
                "#B0BEC5",
                "#B0BEC5",
                "#B0BEC5",
                "#B0BEC5",
                "#B0BEC5",
                "#B0BEC5",
                "#B0BEC5",
                "#B0BEC5",
                "#B0BEC5",
                "red",
                "#B0BEC5",
                "#B0BEC5"
               ]
              ]
             }
            ],
            "label": "Topic 16",
            "method": "update"
           },
           {
            "args": [
             {
              "marker.color": [
               [
                "#B0BEC5",
                "#B0BEC5",
                "#B0BEC5",
                "#B0BEC5",
                "#B0BEC5",
                "#B0BEC5",
                "#B0BEC5",
                "#B0BEC5",
                "#B0BEC5",
                "#B0BEC5",
                "#B0BEC5",
                "#B0BEC5",
                "#B0BEC5",
                "#B0BEC5",
                "#B0BEC5",
                "#B0BEC5",
                "#B0BEC5",
                "red",
                "#B0BEC5"
               ]
              ]
             }
            ],
            "label": "Topic 17",
            "method": "update"
           },
           {
            "args": [
             {
              "marker.color": [
               [
                "#B0BEC5",
                "#B0BEC5",
                "#B0BEC5",
                "#B0BEC5",
                "#B0BEC5",
                "#B0BEC5",
                "#B0BEC5",
                "#B0BEC5",
                "#B0BEC5",
                "#B0BEC5",
                "#B0BEC5",
                "#B0BEC5",
                "#B0BEC5",
                "#B0BEC5",
                "#B0BEC5",
                "#B0BEC5",
                "#B0BEC5",
                "#B0BEC5",
                "red"
               ]
              ]
             }
            ],
            "label": "Topic 18",
            "method": "update"
           }
          ]
         }
        ],
        "template": {
         "data": {
          "bar": [
           {
            "error_x": {
             "color": "rgb(36,36,36)"
            },
            "error_y": {
             "color": "rgb(36,36,36)"
            },
            "marker": {
             "line": {
              "color": "white",
              "width": 0.5
             },
             "pattern": {
              "fillmode": "overlay",
              "size": 10,
              "solidity": 0.2
             }
            },
            "type": "bar"
           }
          ],
          "barpolar": [
           {
            "marker": {
             "line": {
              "color": "white",
              "width": 0.5
             },
             "pattern": {
              "fillmode": "overlay",
              "size": 10,
              "solidity": 0.2
             }
            },
            "type": "barpolar"
           }
          ],
          "carpet": [
           {
            "aaxis": {
             "endlinecolor": "rgb(36,36,36)",
             "gridcolor": "white",
             "linecolor": "white",
             "minorgridcolor": "white",
             "startlinecolor": "rgb(36,36,36)"
            },
            "baxis": {
             "endlinecolor": "rgb(36,36,36)",
             "gridcolor": "white",
             "linecolor": "white",
             "minorgridcolor": "white",
             "startlinecolor": "rgb(36,36,36)"
            },
            "type": "carpet"
           }
          ],
          "choropleth": [
           {
            "colorbar": {
             "outlinewidth": 1,
             "tickcolor": "rgb(36,36,36)",
             "ticks": "outside"
            },
            "type": "choropleth"
           }
          ],
          "contour": [
           {
            "colorbar": {
             "outlinewidth": 1,
             "tickcolor": "rgb(36,36,36)",
             "ticks": "outside"
            },
            "colorscale": [
             [
              0,
              "#440154"
             ],
             [
              0.1111111111111111,
              "#482878"
             ],
             [
              0.2222222222222222,
              "#3e4989"
             ],
             [
              0.3333333333333333,
              "#31688e"
             ],
             [
              0.4444444444444444,
              "#26828e"
             ],
             [
              0.5555555555555556,
              "#1f9e89"
             ],
             [
              0.6666666666666666,
              "#35b779"
             ],
             [
              0.7777777777777778,
              "#6ece58"
             ],
             [
              0.8888888888888888,
              "#b5de2b"
             ],
             [
              1,
              "#fde725"
             ]
            ],
            "type": "contour"
           }
          ],
          "contourcarpet": [
           {
            "colorbar": {
             "outlinewidth": 1,
             "tickcolor": "rgb(36,36,36)",
             "ticks": "outside"
            },
            "type": "contourcarpet"
           }
          ],
          "heatmap": [
           {
            "colorbar": {
             "outlinewidth": 1,
             "tickcolor": "rgb(36,36,36)",
             "ticks": "outside"
            },
            "colorscale": [
             [
              0,
              "#440154"
             ],
             [
              0.1111111111111111,
              "#482878"
             ],
             [
              0.2222222222222222,
              "#3e4989"
             ],
             [
              0.3333333333333333,
              "#31688e"
             ],
             [
              0.4444444444444444,
              "#26828e"
             ],
             [
              0.5555555555555556,
              "#1f9e89"
             ],
             [
              0.6666666666666666,
              "#35b779"
             ],
             [
              0.7777777777777778,
              "#6ece58"
             ],
             [
              0.8888888888888888,
              "#b5de2b"
             ],
             [
              1,
              "#fde725"
             ]
            ],
            "type": "heatmap"
           }
          ],
          "histogram": [
           {
            "marker": {
             "line": {
              "color": "white",
              "width": 0.6
             }
            },
            "type": "histogram"
           }
          ],
          "histogram2d": [
           {
            "colorbar": {
             "outlinewidth": 1,
             "tickcolor": "rgb(36,36,36)",
             "ticks": "outside"
            },
            "colorscale": [
             [
              0,
              "#440154"
             ],
             [
              0.1111111111111111,
              "#482878"
             ],
             [
              0.2222222222222222,
              "#3e4989"
             ],
             [
              0.3333333333333333,
              "#31688e"
             ],
             [
              0.4444444444444444,
              "#26828e"
             ],
             [
              0.5555555555555556,
              "#1f9e89"
             ],
             [
              0.6666666666666666,
              "#35b779"
             ],
             [
              0.7777777777777778,
              "#6ece58"
             ],
             [
              0.8888888888888888,
              "#b5de2b"
             ],
             [
              1,
              "#fde725"
             ]
            ],
            "type": "histogram2d"
           }
          ],
          "histogram2dcontour": [
           {
            "colorbar": {
             "outlinewidth": 1,
             "tickcolor": "rgb(36,36,36)",
             "ticks": "outside"
            },
            "colorscale": [
             [
              0,
              "#440154"
             ],
             [
              0.1111111111111111,
              "#482878"
             ],
             [
              0.2222222222222222,
              "#3e4989"
             ],
             [
              0.3333333333333333,
              "#31688e"
             ],
             [
              0.4444444444444444,
              "#26828e"
             ],
             [
              0.5555555555555556,
              "#1f9e89"
             ],
             [
              0.6666666666666666,
              "#35b779"
             ],
             [
              0.7777777777777778,
              "#6ece58"
             ],
             [
              0.8888888888888888,
              "#b5de2b"
             ],
             [
              1,
              "#fde725"
             ]
            ],
            "type": "histogram2dcontour"
           }
          ],
          "mesh3d": [
           {
            "colorbar": {
             "outlinewidth": 1,
             "tickcolor": "rgb(36,36,36)",
             "ticks": "outside"
            },
            "type": "mesh3d"
           }
          ],
          "parcoords": [
           {
            "line": {
             "colorbar": {
              "outlinewidth": 1,
              "tickcolor": "rgb(36,36,36)",
              "ticks": "outside"
             }
            },
            "type": "parcoords"
           }
          ],
          "pie": [
           {
            "automargin": true,
            "type": "pie"
           }
          ],
          "scatter": [
           {
            "fillpattern": {
             "fillmode": "overlay",
             "size": 10,
             "solidity": 0.2
            },
            "type": "scatter"
           }
          ],
          "scatter3d": [
           {
            "line": {
             "colorbar": {
              "outlinewidth": 1,
              "tickcolor": "rgb(36,36,36)",
              "ticks": "outside"
             }
            },
            "marker": {
             "colorbar": {
              "outlinewidth": 1,
              "tickcolor": "rgb(36,36,36)",
              "ticks": "outside"
             }
            },
            "type": "scatter3d"
           }
          ],
          "scattercarpet": [
           {
            "marker": {
             "colorbar": {
              "outlinewidth": 1,
              "tickcolor": "rgb(36,36,36)",
              "ticks": "outside"
             }
            },
            "type": "scattercarpet"
           }
          ],
          "scattergeo": [
           {
            "marker": {
             "colorbar": {
              "outlinewidth": 1,
              "tickcolor": "rgb(36,36,36)",
              "ticks": "outside"
             }
            },
            "type": "scattergeo"
           }
          ],
          "scattergl": [
           {
            "marker": {
             "colorbar": {
              "outlinewidth": 1,
              "tickcolor": "rgb(36,36,36)",
              "ticks": "outside"
             }
            },
            "type": "scattergl"
           }
          ],
          "scattermap": [
           {
            "marker": {
             "colorbar": {
              "outlinewidth": 1,
              "tickcolor": "rgb(36,36,36)",
              "ticks": "outside"
             }
            },
            "type": "scattermap"
           }
          ],
          "scattermapbox": [
           {
            "marker": {
             "colorbar": {
              "outlinewidth": 1,
              "tickcolor": "rgb(36,36,36)",
              "ticks": "outside"
             }
            },
            "type": "scattermapbox"
           }
          ],
          "scatterpolar": [
           {
            "marker": {
             "colorbar": {
              "outlinewidth": 1,
              "tickcolor": "rgb(36,36,36)",
              "ticks": "outside"
             }
            },
            "type": "scatterpolar"
           }
          ],
          "scatterpolargl": [
           {
            "marker": {
             "colorbar": {
              "outlinewidth": 1,
              "tickcolor": "rgb(36,36,36)",
              "ticks": "outside"
             }
            },
            "type": "scatterpolargl"
           }
          ],
          "scatterternary": [
           {
            "marker": {
             "colorbar": {
              "outlinewidth": 1,
              "tickcolor": "rgb(36,36,36)",
              "ticks": "outside"
             }
            },
            "type": "scatterternary"
           }
          ],
          "surface": [
           {
            "colorbar": {
             "outlinewidth": 1,
             "tickcolor": "rgb(36,36,36)",
             "ticks": "outside"
            },
            "colorscale": [
             [
              0,
              "#440154"
             ],
             [
              0.1111111111111111,
              "#482878"
             ],
             [
              0.2222222222222222,
              "#3e4989"
             ],
             [
              0.3333333333333333,
              "#31688e"
             ],
             [
              0.4444444444444444,
              "#26828e"
             ],
             [
              0.5555555555555556,
              "#1f9e89"
             ],
             [
              0.6666666666666666,
              "#35b779"
             ],
             [
              0.7777777777777778,
              "#6ece58"
             ],
             [
              0.8888888888888888,
              "#b5de2b"
             ],
             [
              1,
              "#fde725"
             ]
            ],
            "type": "surface"
           }
          ],
          "table": [
           {
            "cells": {
             "fill": {
              "color": "rgb(237,237,237)"
             },
             "line": {
              "color": "white"
             }
            },
            "header": {
             "fill": {
              "color": "rgb(217,217,217)"
             },
             "line": {
              "color": "white"
             }
            },
            "type": "table"
           }
          ]
         },
         "layout": {
          "annotationdefaults": {
           "arrowhead": 0,
           "arrowwidth": 1
          },
          "autotypenumbers": "strict",
          "coloraxis": {
           "colorbar": {
            "outlinewidth": 1,
            "tickcolor": "rgb(36,36,36)",
            "ticks": "outside"
           }
          },
          "colorscale": {
           "diverging": [
            [
             0,
             "rgb(103,0,31)"
            ],
            [
             0.1,
             "rgb(178,24,43)"
            ],
            [
             0.2,
             "rgb(214,96,77)"
            ],
            [
             0.3,
             "rgb(244,165,130)"
            ],
            [
             0.4,
             "rgb(253,219,199)"
            ],
            [
             0.5,
             "rgb(247,247,247)"
            ],
            [
             0.6,
             "rgb(209,229,240)"
            ],
            [
             0.7,
             "rgb(146,197,222)"
            ],
            [
             0.8,
             "rgb(67,147,195)"
            ],
            [
             0.9,
             "rgb(33,102,172)"
            ],
            [
             1,
             "rgb(5,48,97)"
            ]
           ],
           "sequential": [
            [
             0,
             "#440154"
            ],
            [
             0.1111111111111111,
             "#482878"
            ],
            [
             0.2222222222222222,
             "#3e4989"
            ],
            [
             0.3333333333333333,
             "#31688e"
            ],
            [
             0.4444444444444444,
             "#26828e"
            ],
            [
             0.5555555555555556,
             "#1f9e89"
            ],
            [
             0.6666666666666666,
             "#35b779"
            ],
            [
             0.7777777777777778,
             "#6ece58"
            ],
            [
             0.8888888888888888,
             "#b5de2b"
            ],
            [
             1,
             "#fde725"
            ]
           ],
           "sequentialminus": [
            [
             0,
             "#440154"
            ],
            [
             0.1111111111111111,
             "#482878"
            ],
            [
             0.2222222222222222,
             "#3e4989"
            ],
            [
             0.3333333333333333,
             "#31688e"
            ],
            [
             0.4444444444444444,
             "#26828e"
            ],
            [
             0.5555555555555556,
             "#1f9e89"
            ],
            [
             0.6666666666666666,
             "#35b779"
            ],
            [
             0.7777777777777778,
             "#6ece58"
            ],
            [
             0.8888888888888888,
             "#b5de2b"
            ],
            [
             1,
             "#fde725"
            ]
           ]
          },
          "colorway": [
           "#1F77B4",
           "#FF7F0E",
           "#2CA02C",
           "#D62728",
           "#9467BD",
           "#8C564B",
           "#E377C2",
           "#7F7F7F",
           "#BCBD22",
           "#17BECF"
          ],
          "font": {
           "color": "rgb(36,36,36)"
          },
          "geo": {
           "bgcolor": "white",
           "lakecolor": "white",
           "landcolor": "white",
           "showlakes": true,
           "showland": true,
           "subunitcolor": "white"
          },
          "hoverlabel": {
           "align": "left"
          },
          "hovermode": "closest",
          "mapbox": {
           "style": "light"
          },
          "paper_bgcolor": "white",
          "plot_bgcolor": "white",
          "polar": {
           "angularaxis": {
            "gridcolor": "rgb(232,232,232)",
            "linecolor": "rgb(36,36,36)",
            "showgrid": false,
            "showline": true,
            "ticks": "outside"
           },
           "bgcolor": "white",
           "radialaxis": {
            "gridcolor": "rgb(232,232,232)",
            "linecolor": "rgb(36,36,36)",
            "showgrid": false,
            "showline": true,
            "ticks": "outside"
           }
          },
          "scene": {
           "xaxis": {
            "backgroundcolor": "white",
            "gridcolor": "rgb(232,232,232)",
            "gridwidth": 2,
            "linecolor": "rgb(36,36,36)",
            "showbackground": true,
            "showgrid": false,
            "showline": true,
            "ticks": "outside",
            "zeroline": false,
            "zerolinecolor": "rgb(36,36,36)"
           },
           "yaxis": {
            "backgroundcolor": "white",
            "gridcolor": "rgb(232,232,232)",
            "gridwidth": 2,
            "linecolor": "rgb(36,36,36)",
            "showbackground": true,
            "showgrid": false,
            "showline": true,
            "ticks": "outside",
            "zeroline": false,
            "zerolinecolor": "rgb(36,36,36)"
           },
           "zaxis": {
            "backgroundcolor": "white",
            "gridcolor": "rgb(232,232,232)",
            "gridwidth": 2,
            "linecolor": "rgb(36,36,36)",
            "showbackground": true,
            "showgrid": false,
            "showline": true,
            "ticks": "outside",
            "zeroline": false,
            "zerolinecolor": "rgb(36,36,36)"
           }
          },
          "shapedefaults": {
           "fillcolor": "black",
           "line": {
            "width": 0
           },
           "opacity": 0.3
          },
          "ternary": {
           "aaxis": {
            "gridcolor": "rgb(232,232,232)",
            "linecolor": "rgb(36,36,36)",
            "showgrid": false,
            "showline": true,
            "ticks": "outside"
           },
           "baxis": {
            "gridcolor": "rgb(232,232,232)",
            "linecolor": "rgb(36,36,36)",
            "showgrid": false,
            "showline": true,
            "ticks": "outside"
           },
           "bgcolor": "white",
           "caxis": {
            "gridcolor": "rgb(232,232,232)",
            "linecolor": "rgb(36,36,36)",
            "showgrid": false,
            "showline": true,
            "ticks": "outside"
           }
          },
          "title": {
           "x": 0.05
          },
          "xaxis": {
           "automargin": true,
           "gridcolor": "rgb(232,232,232)",
           "linecolor": "rgb(36,36,36)",
           "showgrid": false,
           "showline": true,
           "ticks": "outside",
           "title": {
            "standoff": 15
           },
           "zeroline": false,
           "zerolinecolor": "rgb(36,36,36)"
          },
          "yaxis": {
           "automargin": true,
           "gridcolor": "rgb(232,232,232)",
           "linecolor": "rgb(36,36,36)",
           "showgrid": false,
           "showline": true,
           "ticks": "outside",
           "title": {
            "standoff": 15
           },
           "zeroline": false,
           "zerolinecolor": "rgb(36,36,36)"
          }
         }
        },
        "title": {
         "font": {
          "color": "Black",
          "size": 22
         },
         "text": "<b>Intertopic Distance Map</b>",
         "x": 0.5,
         "xanchor": "center",
         "y": 0.95,
         "yanchor": "top"
        },
        "width": 650,
        "xaxis": {
         "anchor": "y",
         "domain": [
          0,
          1
         ],
         "range": [
          -8.041170263290406,
          11.401896810531616
         ],
         "title": {
          "text": ""
         },
         "visible": false
        },
        "yaxis": {
         "anchor": "x",
         "domain": [
          0,
          1
         ],
         "range": [
          4.873505401611328,
          16.887038707733154
         ],
         "title": {
          "text": ""
         },
         "visible": false
        }
       }
      }
     },
     "metadata": {},
     "output_type": "display_data"
    }
   ],
   "source": [
    "from bertopic import BERTopic\n",
    "from sentence_transformers import SentenceTransformer\n",
    "topic_model.visualize_topics()\n"
   ]
  },
  {
   "cell_type": "markdown",
   "metadata": {},
   "source": [
    "## 🔍 Summary: BERTopic Results\n",
    "\n",
    "- BERTopic discovered multiple topics, with a few dense clusters and some clearly separated ones.\n",
    "- Visualization shows that most topics are **well-separated**, with **some overlap** — a good sign of semantic structure.\n",
    "- The majority of messages initially fell into the outlier topic `-1`, but after tuning (and visualizing), **multiple meaningful clusters emerged**.\n",
    "\n",
    "**Strengths**:\n",
    "- Good at uncovering latent themes from short, multilingual texts (like Russian Telegram messages).\n",
    "- Automatic topic labeling.\n",
    "- Interactive 2D visualizations help to interpret topics clearly.\n",
    "\n",
    "**Limitations**:\n",
    "- Relies heavily on quality of embeddings and clustering.\n",
    "- Needs extra effort to tune dependencies (e.g., UMAP, NumPy compatibility issues).\n"
   ]
  },
  {
   "cell_type": "markdown",
   "metadata": {},
   "source": [
    "## Step 6: Sentence Embeddings + KMeans clustering\n",
    "\n",
    "In this approach:\n",
    "- We generate multilingual sentence embeddings for all messages using `sentence-transformers`.\n",
    "- Then we apply KMeans clustering to group the messages.\n",
    "- Finally, we inspect the size and content of each cluster.\n",
    "\n",
    "This is a more manual, but transparent alternative to BERTopic.\n"
   ]
  },
  {
   "cell_type": "code",
   "execution_count": 7,
   "metadata": {},
   "outputs": [
    {
     "data": {
      "application/vnd.jupyter.widget-view+json": {
       "model_id": "3bb32cb47b054807a0730a3339f66bf3",
       "version_major": 2,
       "version_minor": 0
      },
      "text/plain": [
       "Batches:   0%|          | 0/31 [00:00<?, ?it/s]"
      ]
     },
     "metadata": {},
     "output_type": "display_data"
    },
    {
     "name": "stdout",
     "output_type": "stream",
     "text": [
      "\n",
      "Cluster 0\n",
      "['Хорошая база знаний сокращает время поиска ответов и уменьшает зависимость от конкретных людей в команде.', 'Когда менеджер не даёт возможности проявить инициативу, команда быстро теряет мотивацию.', 'Ошибки в рассуждениях стоит обсуждать как возможности для обучения, а не как поводы для критики или обвинений.']\n",
      "\n",
      "Cluster 1\n",
      "['Считаю полезным включить в программу небольшие тимбилдинги, чтобы ускорить интеграцию новичка в коллектив и снизить тревожность.', 'Разработка портала — это хороший шанс обновить бренд компании в глазах сотрудников.', 'Если новичок работает в клиентском отделе, стоит провести погружение в голос клиента: послушать звонки, прочитать отзывы.']\n",
      "\n",
      "Cluster 2\n",
      "['Нужно также проверить, как всё будет отображаться на устаревших версиях браузеров.', 'Раздел часто задаваемых вопросов должен быть доступен без авторизации, это упростит первые шаги новых сотрудников.', 'В перспективе можно подключить бота в корпоративный мессенджер, который будет подсказывать статус процессов и напоминать о дедлайнах.']\n",
      "\n",
      "Cluster 3\n",
      "['Полезно фиксировать частые вопросы новичков, чтобы со временем формировать базу знаний и облегчать работу менторов.', 'Настройка уведомлений только на важные задачи избавляет от перегрузки и повышает концентрацию.', 'Если идея реализована, необходимо фиксировать эффект: сэкономленные ресурсы, улучшенное время реакции, рост удовлетворённости.']\n",
      "\n",
      "Cluster 4\n",
      "['Мы можем установить обязательные временные слоты для синхронного общения внутри команды, а остальное время оставить для самостоятельной работы.', 'Сотрудники должны заранее уведомлять руководителей об изменениях в своём рабочем графике, особенно если речь идёт об изменении часовых поясов.', 'Я проверил расписание поездов самый удобный вариант — выезд в 7:45 с Ленинградского вокзала прибытие в 11:30 Также рекомендую уточнить детали заранее, чтобы избежать непредвидённых ситуаций.']\n"
     ]
    },
    {
     "data": {
      "image/png": "[encoded data removed]",
      "text/plain": [
       "<Figure size 800x600 with 1 Axes>"
      ]
     },
     "metadata": {},
     "output_type": "display_data"
    }
   ],
   "source": [
    "from sklearn.cluster import KMeans\n",
    "from sklearn.decomposition import PCA\n",
    "import matplotlib.pyplot as plt\n",
    "from sentence_transformers import SentenceTransformer\n",
    "\n",
    "# Load multilingual sentence transformer\n",
    "embedding_model = SentenceTransformer(\"sentence-transformers/paraphrase-multilingual-MiniLM-L12-v2\")\n",
    "\n",
    "# Generate embeddings for each message\n",
    "embeddings = embedding_model.encode(df['text'], show_progress_bar=True)\n",
    "\n",
    "# Choose number of clusters\n",
    "n_clusters = 5\n",
    "kmeans = KMeans(n_clusters=n_clusters, random_state=42)\n",
    "df['cluster_kmeans'] = kmeans.fit_predict(embeddings)\n",
    "\n",
    "# Show sample messages from each cluster\n",
    "for i in range(n_clusters):\n",
    "    print(f\"\\nCluster {i}\")\n",
    "    print(df[df['cluster_kmeans'] == i]['text'].sample(3, random_state=42).to_list())\n",
    "\n",
    "# Optional: visualize clusters in 2D\n",
    "pca = PCA(n_components=2)\n",
    "reduced = pca.fit_transform(embeddings)\n",
    "\n",
    "plt.figure(figsize=(8, 6))\n",
    "plt.scatter(reduced[:, 0], reduced[:, 1], c=df['cluster_kmeans'], cmap='tab10', alpha=0.6)\n",
    "plt.title(\"KMeans clustering of message embeddings\")\n",
    "plt.xlabel(\"PCA-1\")\n",
    "plt.ylabel(\"PCA-2\")\n",
    "plt.grid(True)\n",
    "plt.show()\n"
   ]
  },
  {
   "cell_type": "markdown",
   "metadata": {},
   "source": [
    "## Step 7: Sentence Embeddings + HDBSCAN clustering\n",
    "\n",
    "HDBSCAN is a density-based clustering algorithm that:\n",
    "- Automatically determines the number of clusters\n",
    "- Can mark low-density points as outliers (`-1`)\n",
    "- Works well with variable cluster sizes\n",
    "\n",
    "We'll apply it to the same sentence embeddings used before.\n"
   ]
  },
  {
   "cell_type": "code",
   "execution_count": 8,
   "metadata": {},
   "outputs": [
    {
     "name": "stdout",
     "output_type": "stream",
     "text": [
      "Messages labeled as noise: 909 out of 983\n",
      "\n",
      "Cluster 0\n",
      "['Мотивация в долгосрочных проектах часто держится не на вдохновении, а на дисциплине и понимании конечной цели.', 'Когда проект даёт человеку возможность роста, обучения или карьерного продвижения — мотивация держится дольше.', 'Планирование отдыха после завершения проекта также может выступать мотиватором в затяжной фазе выполнения.']\n",
      "\n",
      "Cluster 1\n",
      "['Можно использовать чек-листы адаптации: задачи, встречи, материалы — и отслеживать прогресс новичка в системе.', 'Важно обучить сотрудников работе с автоматизированными решениями: что делать при сбоях, как правильно запускать и т.п.', 'Мы можем создать электронную платформу, где будет трекер задач по адаптации и возможность отмечать выполненные пункты.']\n",
      "\n",
      "Cluster 2\n",
      "['Удалённая работа даёт гибкость, но для некоторых она превращается в круглосуточную доступность для коллег.', 'Удалённая работа позволяет лучше планировать день и встраивать рабочие задачи в личный ритм жизни.', 'Если сотрудники постоянно выбирают удалёнку — возможно, стоит изучить причины и улучшить офисную среду.']\n",
      "\n",
      "Cluster 3\n",
      "['Создание менторской программы поможет улучшить адаптацию новых сотрудников, особенно в тех отделах, где высокая нагрузка и быстрая смена задач.', 'Для новых сотрудников важно сохранить очную адаптацию или предусмотреть гибридный вводный курс с участием команды.', 'Для удобства новых сотрудников можно сделать отдельный раздел с информацией о процессе адаптации и первом дне.']\n",
      "\n",
      "Cluster 4\n",
      "['Важно заранее готовить повестку встреч — тогда обсуждение будет предметным, а не хаотичным.', 'Фасилитация встреч с акцентом на аргументацию, а не статус участников, делает обсуждение более продуктивным.', 'Если регулярно на встречах не хватает времени, возможно, нужно перераспределить темы на несколько сессий.']\n",
      "\n",
      "Cluster 5\n",
      "['Удалёнка может снижать уровень конфликта в команде, но также затрудняет своевременное разрешение недопониманий.', 'Вовлечение сотрудников в ведение базы знаний может быть поощрено признанием, благодарностями или даже бонусами.', 'Открытое признание успехов и регулярная обратная связь формируют у сотрудников мотивацию и ощущение ценности их вклада.']\n"
     ]
    },
    {
     "data": {
      "image/png": "[encoded data removed]",
      "text/plain": [
       "<Figure size 800x600 with 1 Axes>"
      ]
     },
     "metadata": {},
     "output_type": "display_data"
    }
   ],
   "source": [
    "from sklearn.preprocessing import normalize\n",
    "import hdbscan\n",
    "\n",
    "# Normalize the embeddings (L2 norm), to simulate cosine distance\n",
    "normalized_embeddings = normalize(embeddings)\n",
    "\n",
    "# HDBSCAN with Euclidean (equivalent to cosine after normalization)\n",
    "clusterer = hdbscan.HDBSCAN(min_cluster_size=5, prediction_data=True, metric='euclidean')\n",
    "df['cluster_hdbscan'] = clusterer.fit_predict(normalized_embeddings)\n",
    "\n",
    "# Report noise\n",
    "noise_count = (df['cluster_hdbscan'] == -1).sum()\n",
    "print(f\"Messages labeled as noise: {noise_count} out of {len(df)}\")\n",
    "\n",
    "# Show samples from each cluster\n",
    "for i in sorted(set(df['cluster_hdbscan'])):\n",
    "    if i == -1:\n",
    "        continue\n",
    "    print(f\"\\nCluster {i}\")\n",
    "    print(df[df['cluster_hdbscan'] == i]['text'].sample(3, random_state=42).to_list())\n",
    "\n",
    "# Visualize\n",
    "reduced = PCA(n_components=2).fit_transform(normalized_embeddings)\n",
    "plt.figure(figsize=(8, 6))\n",
    "plt.scatter(reduced[:, 0], reduced[:, 1], c=df['cluster_hdbscan'], cmap='tab10', alpha=0.6)\n",
    "plt.title(\"HDBSCAN clustering of message embeddings (cosine-like)\")\n",
    "plt.xlabel(\"PCA-1\")\n",
    "plt.ylabel(\"PCA-2\")\n",
    "plt.grid(True)\n",
    "plt.show()\n"
   ]
  },
  {
   "cell_type": "markdown",
   "metadata": {},
   "source": [
    "## 🔍 Summary: Sentence Embeddings + Clustering (KMeans + HDBSCAN)\n",
    "\n",
    "We explored clustering of sentence-level embeddings generated using multilingual transformer models.\n",
    "\n",
    "### KMeans Results:\n",
    "- Performed well with `k=5`, producing **semantically meaningful and distinct clusters**.\n",
    "- Clusters included topics like motivation, onboarding, remote work, meeting efficiency, etc.\n",
    "- Limitation: the number of clusters must be manually specified, which may not reflect the true structure of the data.\n",
    "\n",
    "### HDBSCAN Results:\n",
    "- Automatically detected **6 distinct themes** and filtered out noisy, unstructured messages.\n",
    "- Produced **interpretable clusters**, such as:\n",
    "  - motivation and burnout,\n",
    "  - onboarding automation,\n",
    "  - remote work challenges,\n",
    "  - meeting organization,\n",
    "  - team communication.\n",
    "- Limitation: more sensitive to parameter tuning (`min_cluster_size`), and may miss rare or thin topics.\n",
    "\n",
    "### Visualizations:\n",
    "- PCA-based scatterplots showed compact and well-formed groups.\n",
    "- HDBSCAN’s ability to exclude noise improved the clarity of topic boundaries.\n",
    "\n",
    "**Strengths**:\n",
    "- Multilingual support via transformer embeddings\n",
    "- High-quality clustering even with short messages\n",
    "- Clear interpretability of message samples per cluster\n",
    "\n",
    "**Limitations**:\n",
    "- Requires vectorization and preprocessing\n",
    "- Sensitive to hyperparameters\n"
   ]
  },
  {
   "cell_type": "markdown",
   "metadata": {},
   "source": [
    "## Step 8: Topic modeling with LDA (Scikit-learn)\n",
    "\n",
    "We use sklearn's LatentDirichletAllocation to apply LDA on short Russian texts.  \n",
    "We'll preprocess text, convert it to TF-IDF, and fit the model.\n"
   ]
  },
  {
   "cell_type": "code",
   "execution_count": 9,
   "metadata": {},
   "outputs": [
    {
     "name": "stderr",
     "output_type": "stream",
     "text": [
      "[nltk_data] Downloading package punkt to /Users/leo/nltk_data...\n",
      "[nltk_data]   Package punkt is already up-to-date!\n",
      "[nltk_data] Downloading package stopwords to /Users/leo/nltk_data...\n",
      "[nltk_data]   Package stopwords is already up-to-date!\n"
     ]
    },
    {
     "name": "stdout",
     "output_type": "stream",
     "text": [
      "\n",
      "Topic #0:\n",
      "нужно, это, должны, часто, сотрудники, сотрудников, важно, работы, можем, стоит\n",
      "\n",
      "Topic #1:\n",
      "это, стоит, сотрудников, нужно, заранее, предусмотреть, команды, новых, компании, повышает\n",
      "\n",
      "Topic #2:\n",
      "сотрудников, компании, помогает, это, стоит, можем, связь, внедрить, предлагаю, нужно\n",
      "\n",
      "Topic #3:\n",
      "важно, это, время, внедрить, встречи, предлагаю, вовлечённости, помогает, фиксировать, места\n",
      "\n",
      "Topic #4:\n",
      "важно, помогает, команды, сотрудник, это, обратной, связи, использовать, какие, нужно\n",
      "\n",
      "Topic #5:\n",
      "важно, нужно, внедрить, это, связь, стоит, задачи, вопросы, регулярные, задавать\n",
      "\n",
      "Topic #6:\n",
      "это, стоит, нужно, сотрудников, особенно, важно, должны, работе, команде, цели\n",
      "\n",
      "Topic #7:\n",
      "заранее, избежать, рекомендую, также, ситуаций, детали, непредвидённых, уточнить, особенно, команды\n",
      "\n",
      "Topic #8:\n",
      "важно, стоит, задач, особенно, должен, компании, проводить, помогает, работы, могли\n",
      "\n",
      "Topic #9:\n",
      "важно, стоит, сотрудников, это, каждый, нам, должен, помогает, связи, курсы\n"
     ]
    }
   ],
   "source": [
    "from nltk.corpus import stopwords\n",
    "from nltk.tokenize import word_tokenize\n",
    "import nltk\n",
    "from sklearn.feature_extraction.text import CountVectorizer\n",
    "from sklearn.decomposition import LatentDirichletAllocation\n",
    "\n",
    "nltk.download('punkt')\n",
    "nltk.download('stopwords')\n",
    "stop_words = set(stopwords.words('russian'))\n",
    "\n",
    "# Basic preprocessing\n",
    "def simple_preprocess(text):\n",
    "    tokens = word_tokenize(text.lower())\n",
    "    tokens = [t for t in tokens if t.isalpha() and t not in stop_words]\n",
    "    return ' '.join(tokens)\n",
    "\n",
    "# Clean text\n",
    "df['clean_text'] = df['text'].apply(simple_preprocess)\n",
    "\n",
    "# Convert to Bag-of-Words\n",
    "vectorizer = CountVectorizer()\n",
    "bow = vectorizer.fit_transform(df['clean_text'])\n",
    "\n",
    "# Train LDA model\n",
    "lda = LatentDirichletAllocation(n_components=10, random_state=42)\n",
    "lda.fit(bow)\n",
    "\n",
    "# Show top words per topic\n",
    "words = vectorizer.get_feature_names_out()\n",
    "for i, topic in enumerate(lda.components_):\n",
    "    print(f\"\\nTopic #{i}:\")\n",
    "    print(\", \".join([words[i] for i in topic.argsort()[-10:][::-1]]))\n"
   ]
  },
  {
   "cell_type": "markdown",
   "metadata": {},
   "source": [
    "## 🔍 Summary: Topic Modeling with LDA (Scikit-learn)\n",
    "\n",
    "We used Scikit-learn's `LatentDirichletAllocation` model to extract latent topics from short Russian Telegram messages.\n",
    "\n",
    "### Setup:\n",
    "- Messages were preprocessed with tokenization and stopword removal.\n",
    "- Bag-of-Words representation was built using `CountVectorizer`.\n",
    "- 10 topics were extracted using LDA.\n",
    "\n",
    "### Observations:\n",
    "- Most topics contain relevant words like `важно`, `нужно`, `работа`, `сотрудники`, `связь`.\n",
    "- Some redundancy and overlap in topics, due to:\n",
    "  - Short message length\n",
    "  - Lack of lemmatization\n",
    "  - Shared thematic structure across messages (corporate tone)\n",
    "\n",
    "**Strengths**:\n",
    "- Simple, interpretable topic-word distributions\n",
    "- No embedding models or external dependencies\n",
    "\n",
    "**Limitations**:\n",
    "- Struggles with overlapping or vague themes\n",
    "- Requires clean input (lemmatization could help)\n",
    "- Less flexible for multilingual or nuanced semantic separation\n"
   ]
  },
  {
   "cell_type": "markdown",
   "metadata": {},
   "source": [
    "## Step 10: Topic modeling with NMF (TF-IDF)\n",
    "\n",
    "NMF is a matrix factorization algorithm that finds latent topics using TF-IDF instead of raw counts.  \n",
    "It is often more effective than LDA for short texts like chat messages.\n"
   ]
  },
  {
   "cell_type": "code",
   "execution_count": 10,
   "metadata": {},
   "outputs": [
    {
     "name": "stdout",
     "output_type": "stream",
     "text": [
      "\n",
      "Topic #0:\n",
      "заранее, детали, также, избежать, рекомендую, уточнить, непредвидённых, ситуаций, список, возможность\n",
      "\n",
      "Topic #1:\n",
      "это, повышает, требует, снижает, цели, роста, часть, должно, время, даёт\n",
      "\n",
      "Topic #2:\n",
      "стоит, нам, встречи, предусмотреть, какие, внедрить, возможно, автоматизировать, провести, отвечает\n",
      "\n",
      "Topic #3:\n",
      "сотрудников, компании, новых, можем, использовать, предлагаю, удалённых, особенно, развития, разработать\n",
      "\n",
      "Topic #4:\n",
      "важно, обеспечить, предусмотреть, особенно, отслеживать, обучения, чёткие, руководителей, сбоях, учитывать\n",
      "\n",
      "Topic #5:\n",
      "нужно, нам, участников, подготовить, хакатона, часто, заранее, документы, обеспечить, особенно\n",
      "\n",
      "Topic #6:\n",
      "связь, обратную, обратная, регулярная, полезно, должна, признание, коллег, собирать, получить\n",
      "\n",
      "Topic #7:\n",
      "помогает, задач, команде, работы, использование, работу, задачи, видеть, избежать, быстрее\n",
      "\n",
      "Topic #8:\n",
      "сотрудники, должны, обучение, могли, чувствовать, работы, понимать, участие, внутренние, понимают\n",
      "\n",
      "Topic #9:\n",
      "команды, связи, обратной, внутри, должен, руководитель, сбор, часто, автоматизация, которые\n"
     ]
    }
   ],
   "source": [
    "from sklearn.feature_extraction.text import TfidfVectorizer\n",
    "from sklearn.decomposition import NMF\n",
    "\n",
    "# TF-IDF transformation\n",
    "# TF-IDF transformation\n",
    "tfidf_vectorizer = TfidfVectorizer(\n",
    "    max_df=0.95,\n",
    "    min_df=2,\n",
    "    stop_words=list(stop_words)  # <--- fix here\n",
    ")\n",
    "tfidf = tfidf_vectorizer.fit_transform(df['clean_text'])\n",
    "\n",
    "\n",
    "# Fit NMF\n",
    "nmf_model = NMF(n_components=10, random_state=42)\n",
    "nmf_model.fit(tfidf)\n",
    "\n",
    "# Show top words per topic\n",
    "feature_names = tfidf_vectorizer.get_feature_names_out()\n",
    "for topic_idx, topic in enumerate(nmf_model.components_):\n",
    "    print(f\"\\nTopic #{topic_idx}:\")\n",
    "    print(\", \".join([feature_names[i] for i in topic.argsort()[:-11:-1]]))\n"
   ]
  },
  {
   "cell_type": "markdown",
   "metadata": {},
   "source": [
    "## 🔍 Summary: Topic Modeling with NMF (TF-IDF)\n",
    "\n",
    "NMF (Non-negative Matrix Factorization) was applied to extract latent topics from messages using TF-IDF vectors.\n",
    "\n",
    "### Results:\n",
    "- NMF produced **clearer and less overlapping topics** than LDA.\n",
    "- Topics were well-structured, with distinct themes like:\n",
    "  - Planning and risk avoidance\n",
    "  - Growth and productivity\n",
    "  - Automation of meetings and internal processes\n",
    "  - Onboarding and feedback loops\n",
    "\n",
    "### Observations:\n",
    "- NMF worked well with short, domain-specific messages.\n",
    "- TF-IDF helped emphasize unique topic terms.\n",
    "- Topics were more interpretable compared to classical LDA.\n",
    "\n",
    "**Strengths**:\n",
    "- Better topic separation for short texts\n",
    "- Intuitive word-topic distributions\n",
    "- Works directly with TF-IDF\n",
    "\n",
    "**Limitations**:\n",
    "- No probabilistic interpretation like LDA\n",
    "- Still sensitive to stopword cleanup and preprocessing\n"
   ]
  },
  {
   "cell_type": "markdown",
   "metadata": {},
   "source": [
    "## Step 11: Topic Modeling with Top2Vec\n",
    "\n",
    "Top2Vec automatically detects the number of topics by learning dense vector representations of documents and topics.  \n",
    "It works well for short texts and supports multiple languages.\n"
   ]
  },
  {
   "cell_type": "code",
   "execution_count": 11,
   "metadata": {},
   "outputs": [
    {
     "name": "stdout",
     "output_type": "stream",
     "text": [
      "zsh:1: /Users/leo/Desktop/TgAnalyzer/venv/bin/pip: bad interpreter: /Users/leo/Desktop/TGAnalyzist/venv/bin/python3.12: no such file or directory\n"
     ]
    },
    {
     "name": "stderr",
     "output_type": "stream",
     "text": [
      "2025-06-21 21:08:59,082 - top2vec - INFO - Pre-processing documents for training\n",
      "2025-06-21 21:08:59,127 - top2vec - INFO - Downloading distiluse-base-multilingual-cased model\n"
     ]
    },
    {
     "data": {
      "application/vnd.jupyter.widget-view+json": {
       "model_id": "603ddbfa00be440890d4ff2521057ced",
       "version_major": 2,
       "version_minor": 0
      },
      "text/plain": [
       "modules.json:   0%|          | 0.00/341 [00:00<?, ?B/s]"
      ]
     },
     "metadata": {},
     "output_type": "display_data"
    },
    {
     "data": {
      "application/vnd.jupyter.widget-view+json": {
       "model_id": "cf065eeae47d4fc386c7e27c2e2d99e7",
       "version_major": 2,
       "version_minor": 0
      },
      "text/plain": [
       "config_sentence_transformers.json:   0%|          | 0.00/122 [00:00<?, ?B/s]"
      ]
     },
     "metadata": {},
     "output_type": "display_data"
    },
    {
     "data": {
      "application/vnd.jupyter.widget-view+json": {
       "model_id": "215a9bf6f50a4c32a9a0b7556b8938fd",
       "version_major": 2,
       "version_minor": 0
      },
      "text/plain": [
       "README.md:   0%|          | 0.00/2.16k [00:00<?, ?B/s]"
      ]
     },
     "metadata": {},
     "output_type": "display_data"
    },
    {
     "data": {
      "application/vnd.jupyter.widget-view+json": {
       "model_id": "ca96ff0673fc4671bec7613a9fe1e0ee",
       "version_major": 2,
       "version_minor": 0
      },
      "text/plain": [
       "sentence_bert_config.json:   0%|          | 0.00/53.0 [00:00<?, ?B/s]"
      ]
     },
     "metadata": {},
     "output_type": "display_data"
    },
    {
     "data": {
      "application/vnd.jupyter.widget-view+json": {
       "model_id": "08f47e70c13f43f7945e9d00e1aa4b3e",
       "version_major": 2,
       "version_minor": 0
      },
      "text/plain": [
       "config.json:   0%|          | 0.00/607 [00:00<?, ?B/s]"
      ]
     },
     "metadata": {},
     "output_type": "display_data"
    },
    {
     "data": {
      "application/vnd.jupyter.widget-view+json": {
       "model_id": "5c4a060182de48c8b9ddaa501e0cdf18",
       "version_major": 2,
       "version_minor": 0
      },
      "text/plain": [
       "model.safetensors:   0%|          | 0.00/539M [00:00<?, ?B/s]"
      ]
     },
     "metadata": {},
     "output_type": "display_data"
    },
    {
     "data": {
      "application/vnd.jupyter.widget-view+json": {
       "model_id": "9dba6d06a3584d90a5be25f5a31643f3",
       "version_major": 2,
       "version_minor": 0
      },
      "text/plain": [
       "tokenizer_config.json:   0%|          | 0.00/528 [00:00<?, ?B/s]"
      ]
     },
     "metadata": {},
     "output_type": "display_data"
    },
    {
     "data": {
      "application/vnd.jupyter.widget-view+json": {
       "model_id": "d1d7e1670ae54b3493bedea8a5c5861b",
       "version_major": 2,
       "version_minor": 0
      },
      "text/plain": [
       "vocab.txt:   0%|          | 0.00/996k [00:00<?, ?B/s]"
      ]
     },
     "metadata": {},
     "output_type": "display_data"
    },
    {
     "data": {
      "application/vnd.jupyter.widget-view+json": {
       "model_id": "fc63530d206947ceb0d3e2c39374217a",
       "version_major": 2,
       "version_minor": 0
      },
      "text/plain": [
       "tokenizer.json:   0%|          | 0.00/1.96M [00:00<?, ?B/s]"
      ]
     },
     "metadata": {},
     "output_type": "display_data"
    },
    {
     "data": {
      "application/vnd.jupyter.widget-view+json": {
       "model_id": "712784252c0c4c088955e3ce86b4cb7f",
       "version_major": 2,
       "version_minor": 0
      },
      "text/plain": [
       "special_tokens_map.json:   0%|          | 0.00/112 [00:00<?, ?B/s]"
      ]
     },
     "metadata": {},
     "output_type": "display_data"
    },
    {
     "data": {
      "application/vnd.jupyter.widget-view+json": {
       "model_id": "f7e35cfc4513447280d4b0255199e8d5",
       "version_major": 2,
       "version_minor": 0
      },
      "text/plain": [
       "config.json:   0%|          | 0.00/190 [00:00<?, ?B/s]"
      ]
     },
     "metadata": {},
     "output_type": "display_data"
    },
    {
     "data": {
      "application/vnd.jupyter.widget-view+json": {
       "model_id": "871e20b92c2243d29749bd78b3548429",
       "version_major": 2,
       "version_minor": 0
      },
      "text/plain": [
       "config.json:   0%|          | 0.00/114 [00:00<?, ?B/s]"
      ]
     },
     "metadata": {},
     "output_type": "display_data"
    },
    {
     "data": {
      "application/vnd.jupyter.widget-view+json": {
       "model_id": "478fabe5c2c44abb8106cbd83f95e4dc",
       "version_major": 2,
       "version_minor": 0
      },
      "text/plain": [
       "2_Dense/rust_model.ot:   0%|          | 0.00/1.58M [00:00<?, ?B/s]"
      ]
     },
     "metadata": {},
     "output_type": "display_data"
    },
    {
     "data": {
      "application/vnd.jupyter.widget-view+json": {
       "model_id": "c33a700fdfb44518909cf60caa8d3c5b",
       "version_major": 2,
       "version_minor": 0
      },
      "text/plain": [
       "2_Dense/pytorch_model.bin:   0%|          | 0.00/1.58M [00:00<?, ?B/s]"
      ]
     },
     "metadata": {},
     "output_type": "display_data"
    },
    {
     "data": {
      "application/vnd.jupyter.widget-view+json": {
       "model_id": "3f7022bde4d0406c89c5519ecaf33f63",
       "version_major": 2,
       "version_minor": 0
      },
      "text/plain": [
       "2_Dense/model.safetensors:   0%|          | 0.00/1.58M [00:00<?, ?B/s]"
      ]
     },
     "metadata": {},
     "output_type": "display_data"
    },
    {
     "name": "stderr",
     "output_type": "stream",
     "text": [
      "2025-06-21 21:09:29,205 - top2vec - INFO - Creating joint document/word embedding\n",
      "2025-06-21 21:09:33,492 - top2vec - INFO - Creating lower dimension embedding of documents\n",
      "2025-06-21 21:09:34,419 - top2vec - INFO - Finding dense areas of documents\n",
      "2025-06-21 21:09:34,449 - top2vec - INFO - Finding topics\n"
     ]
    },
    {
     "name": "stdout",
     "output_type": "stream",
     "text": [
      "Number of topics: 2\n",
      "\n",
      "Topic #0: сотрудников, важно, нужно, стоит, это, на, можно, помогает, что, по, не, быть, как, чтобы, мы, заранее, или, для, если, также\n",
      "\n",
      "Topic #1: заранее, стоит, можно, на, важно, не, по, как, нужно, что, для, чтобы, также, или, если, быть, мы, сотрудников, это, помогает\n"
     ]
    }
   ],
   "source": [
    "!pip install top2vec -q\n",
    "\n",
    "from top2vec import Top2Vec\n",
    "\n",
    "# Fit Top2Vec on raw messages (no need for lemmatization)\n",
    "top2vec_model = Top2Vec(\n",
    "    documents=df['text'].tolist(),\n",
    "    embedding_model='distiluse-base-multilingual-cased',\n",
    "    speed='learn',\n",
    "    workers=4\n",
    ")\n",
    "\n",
    "# Number of topics found\n",
    "print(f\"Number of topics: {top2vec_model.get_num_topics()}\")\n",
    "\n",
    "# Print top words for each topic\n",
    "topic_words, _, _ = top2vec_model.get_topics()\n",
    "for i, words in enumerate(topic_words):\n",
    "    print(f\"\\nTopic #{i}: {', '.join(words)}\")\n"
   ]
  },
  {
   "cell_type": "markdown",
   "metadata": {},
   "source": [
    "## 📈 Final Model Comparison Summary\n",
    "\n",
    "| Model              | Strengths                                                                 | Limitations                                                                 |\n",
    "|--------------------|---------------------------------------------------------------------------|------------------------------------------------------------------------------|\n",
    "| **BERTopic**       | Works well with multilingual short texts, good topic visualization        | Many messages assigned to -1 (\"other\"), embedding quality affects result     |\n",
    "| **KMeans**         | Fast, easy to implement, interpretable                                    | Number of clusters must be predefined, sensitive to `k`                     |\n",
    "| **HDBSCAN**        | Auto-detects number of clusters, handles noise                            | Sensitive to `min_cluster_size`, may group too few items                    |\n",
    "| **LDA**            | Probabilistic, interpretable word distributions                           | Topics may overlap, noisy on short texts                                    |\n",
    "| **NMF**            | Good topic separation, works well with TF-IDF and short documents         | No probabilistic interpretation, requires tuning                            |\n",
    "\n",
    "### ✅ Best overall:\n",
    "- For **interpretability and structure** → NMF or BERTopic\n",
    "- For **automation (no need to choose k)** → HDBSCAN or BERTopic\n",
    "- For **classical analysis and comparison with papers** → LDA\n",
    "\n",
    "---\n"
   ]
  },
  {
   "cell_type": "markdown",
   "metadata": {},
   "source": [
    "## ✅ Selected Models for Topic Modeling (Russian Telegram Chat)\n",
    "\n",
    "Based on our analysis, we selected the following combination of models to address the topic modeling task for Russian-language messages:\n",
    "\n",
    "---\n",
    "\n",
    "### 1. **Sentence Embeddings + HDBSCAN**\n",
    "\n",
    "**Purpose:** Discovering hidden semantic clusters in messages without predefining the number of topics.\n",
    "\n",
    "**Why this combination:**\n",
    "- The `paraphrase-multilingual-MiniLM-L12-v2` model provides high-quality multilingual embeddings.\n",
    "- `HDBSCAN` handles clusters of varying density and is robust to noise.\n",
    "- Well-suited for short Telegram messages.\n",
    "\n",
    "---\n",
    "\n",
    "### 2. **TF-IDF + NMF (Non-negative Matrix Factorization)**\n",
    "\n",
    "**Purpose:** Extracting interpretable keywords per topic, especially effective for analyzing longer messages or discussions.\n",
    "\n",
    "**Why this combination:**\n",
    "- `TF-IDF` captures term importance within the chat context.\n",
    "- `NMF` allows for understandable topic decomposition.\n",
    "- Works well for medium and long texts.\n",
    "\n",
    "---\n",
    "\n",
    "This combination enables:\n",
    "- Capturing semantic relationships between messages (via embeddings and clustering).\n",
    "- Identifying clear and interpretable topics (via NMF), which is useful for reporting and visualization.\n"
   ]
  }
 ],
 "metadata": {
  "kernelspec": {
   "display_name": "Python 3",
   "language": "python",
   "name": "python3"
  },
  "language_info": {
   "codemirror_mode": {
    "name": "ipython",
    "version": 3
   },
   "file_extension": ".py",
   "mimetype": "text/x-python",
   "name": "python",
   "nbconvert_exporter": "python",
   "pygments_lexer": "ipython3",
   "version": "3.12.3"
  }
 },
 "nbformat": 4,
 "nbformat_minor": 2
}
